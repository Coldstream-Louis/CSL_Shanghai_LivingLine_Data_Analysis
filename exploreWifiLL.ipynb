{
 "cells": [
  {
   "cell_type": "code",
   "execution_count": 2,
   "metadata": {},
   "outputs": [
    {
     "ename": "FileNotFoundError",
     "evalue": "[Errno 2] No such file or directory: './llWifidata/raw/2018-07-17_05 2.txt'",
     "output_type": "error",
     "traceback": [
      "\u001b[0;31m---------------------------------------------------------------------------\u001b[0m",
      "\u001b[0;31mFileNotFoundError\u001b[0m                         Traceback (most recent call last)",
      "\u001b[0;32m<ipython-input-2-eb451471a73e>\u001b[0m in \u001b[0;36m<module>\u001b[0;34m()\u001b[0m\n\u001b[1;32m      9\u001b[0m \u001b[0mfilepath\u001b[0m\u001b[0;34m=\u001b[0m\u001b[0;34m'.'\u001b[0m\u001b[0;34m\u001b[0m\u001b[0m\n\u001b[1;32m     10\u001b[0m \u001b[0;34m\u001b[0m\u001b[0m\n\u001b[0;32m---> 11\u001b[0;31m \u001b[0;32mwith\u001b[0m \u001b[0mopen\u001b[0m \u001b[0;34m(\u001b[0m\u001b[0mfilepath\u001b[0m\u001b[0;34m+\u001b[0m\u001b[0;34m\"/llWifidata/raw/2018-07-17_05 2.txt\"\u001b[0m\u001b[0;34m,\u001b[0m \u001b[0;34m\"r\"\u001b[0m\u001b[0;34m,\u001b[0m  \u001b[0merrors\u001b[0m\u001b[0;34m=\u001b[0m\u001b[0;34m'replace'\u001b[0m\u001b[0;34m)\u001b[0m \u001b[0;32mas\u001b[0m \u001b[0mmyfile\u001b[0m\u001b[0;34m:\u001b[0m\u001b[0;34m\u001b[0m\u001b[0m\n\u001b[0m\u001b[1;32m     12\u001b[0m     \u001b[0mdata\u001b[0m\u001b[0;34m=\u001b[0m\u001b[0mmyfile\u001b[0m\u001b[0;34m.\u001b[0m\u001b[0mreadlines\u001b[0m\u001b[0;34m(\u001b[0m\u001b[0;34m)\u001b[0m\u001b[0;34m\u001b[0m\u001b[0m\n\u001b[1;32m     13\u001b[0m     \u001b[0mdataRawJson\u001b[0m\u001b[0;34m=\u001b[0m\u001b[0;34m[\u001b[0m\u001b[0mjson\u001b[0m\u001b[0;34m.\u001b[0m\u001b[0mloads\u001b[0m\u001b[0;34m(\u001b[0m\u001b[0mdata\u001b[0m\u001b[0;34m[\u001b[0m\u001b[0mi\u001b[0m\u001b[0;34m]\u001b[0m\u001b[0;34m)\u001b[0m \u001b[0;32mfor\u001b[0m \u001b[0mi\u001b[0m \u001b[0;32min\u001b[0m \u001b[0mrange\u001b[0m\u001b[0;34m(\u001b[0m\u001b[0mlen\u001b[0m\u001b[0;34m(\u001b[0m\u001b[0mdata\u001b[0m\u001b[0;34m)\u001b[0m\u001b[0;34m)\u001b[0m\u001b[0;34m]\u001b[0m\u001b[0;34m\u001b[0m\u001b[0m\n",
      "\u001b[0;31mFileNotFoundError\u001b[0m: [Errno 2] No such file or directory: './llWifidata/raw/2018-07-17_05 2.txt'"
     ]
    }
   ],
   "source": [
    "import pandas as pd\n",
    "import json\n",
    "import urllib\n",
    "import re\n",
    "import datetime\n",
    "import pytz\n",
    "import matplotlib.pyplot as plt\n",
    "\n",
    "filepath='insertYourFilePath'\n",
    "\n",
    "with open (filepath+\"/llWifidata/raw/2018-07-17_05 2.txt\", \"r\",  errors='replace') as myfile:\n",
    "    data=myfile.readlines()\n",
    "    dataRawJson=[json.loads(data[i]) for i in range(len(data))]\n",
    "\n",
    "with open (filepath+\"/llWifidata/clean/pri-2018-07-17_05\", \"r\") as myfile:\n",
    "    data=myfile.readlines()\n",
    "dataFormatted = '[' + re.sub('}\\s*{',  '},{', data[0]) + ']'#search for }{, ignoring whitespace, add a comma \n",
    "dataCleanJson=json.loads(dataFormatted)\n",
    "dataCleanJsonLists=[[rec['data'][i].split(',') for i in range(len(rec['data']))] for rec in dataCleanJson]\n",
    "validMacs=[[record[i][5] for i in range(len(record))] for record in dataCleanJsonLists]\n",
    "uniqueValidMacs=set([mac for macList in validMacs for mac in macList])\n",
    "numUniqueValidMacs=len(uniqueValidMacs)\n",
    "\n",
    "timeCorrection=8*60*60\n",
    "allTimes=[]\n",
    "individuals={}\n",
    "c=0\n",
    "for record in dataRawJson:\n",
    "    c+=1\n",
    "    print(c)\n",
    "    wifi=record['wifidata']\n",
    "    apmac=wifi['apmac']\n",
    "    ts=float(wifi['tssend'])+timeCorrection\n",
    "    allTimes.extend([ts])\n",
    "    dateTime=datetime.datetime.utcfromtimestamp(ts/1000).strftime('%Y%m%d %H:%M:%S')\n",
    "    count=wifi['count']\n",
    "    for obs in wifi['wifitalist']:\n",
    "        valid=obs['mac'] in uniqueValidMacs\n",
    "        newObs={'probe':apmac,\n",
    "                'ts':ts,\n",
    "                'dateTime':dateTime,\n",
    "                'rssi':obs['rssi']}\n",
    "        if obs['mac'] in individuals:\n",
    "            individuals[obs['mac']]['observations'].append(newObs)\n",
    "        else:\n",
    "            individuals[obs['mac']]={'valid':valid, 'observations':[newObs]}\n",
    "            \n",
    "obsPerPerson=[len(individuals[i]) for i in individuals]\n",
    "#plt.hist(obsPerPerson, bins=100)\n",
    "\n",
    "minTime=datetime.datetime.utcfromtimestamp(min(allTimes)/1000).strftime('%Y%m%d %H:%M:%S')\n",
    "maxTime=datetime.datetime.utcfromtimestamp(max(allTimes)/1000).strftime('%Y%m%d %H:%M:%S')\n",
    "\n",
    "numValidMacsRaw=sum([individuals[ind]['valid'] for ind in individuals])\n",
    "numValidObs=sum([individuals[ind]['valid']*len(individuals[ind]['observations'])for ind in individuals])\n",
    "numObs=sum([len(individuals[ind]['observations']) for ind in individuals])\n",
    "pcentValid=100*numValidObs/numObs"
   ]
  },
  {
   "cell_type": "code",
   "execution_count": null,
   "metadata": {
    "collapsed": true
   },
   "outputs": [],
   "source": []
  }
 ],
 "metadata": {
  "anaconda-cloud": {},
  "kernelspec": {
   "display_name": "Python [conda root]",
   "language": "python",
   "name": "conda-root-py"
  },
  "language_info": {
   "codemirror_mode": {
    "name": "ipython",
    "version": 3
   },
   "file_extension": ".py",
   "mimetype": "text/x-python",
   "name": "python",
   "nbconvert_exporter": "python",
   "pygments_lexer": "ipython3",
   "version": "3.5.2"
  }
 },
 "nbformat": 4,
 "nbformat_minor": 2
}
